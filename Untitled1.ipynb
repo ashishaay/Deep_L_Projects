{
 "cells": [
  {
   "cell_type": "code",
   "execution_count": 1,
   "id": "40f65b74",
   "metadata": {},
   "outputs": [],
   "source": [
    "import matplotlib.pyplot as plt\n",
    "import numpy as np\n",
    "import cv2\n",
    "import os\n",
    "import PIL\n",
    "import tensorflow as tf\n",
    "\n",
    "from tensorflow import keras\n",
    "from keras import layers\n",
    "from keras.models import Sequential"
   ]
  },
  {
   "cell_type": "code",
   "execution_count": 2,
   "id": "09dab066",
   "metadata": {},
   "outputs": [
    {
     "data": {
      "text/plain": [
       "WindowsPath('PlantVillage')"
      ]
     },
     "execution_count": 2,
     "metadata": {},
     "output_type": "execute_result"
    }
   ],
   "source": [
    "data_dir = \"PlantVillage\"\n",
    "import pathlib\n",
    "data_dir = pathlib.Path(data_dir)\n",
    "data_dir"
   ]
  },
  {
   "cell_type": "code",
   "execution_count": 3,
   "id": "fff9ab54",
   "metadata": {},
   "outputs": [],
   "source": [
    "image_count = len(list(data_dir.glob('*/*.jpg')))"
   ]
  },
  {
   "cell_type": "code",
   "execution_count": 4,
   "id": "2b16a65b",
   "metadata": {},
   "outputs": [
    {
     "data": {
      "text/plain": [
       "1404"
      ]
     },
     "execution_count": 4,
     "metadata": {},
     "output_type": "execute_result"
    }
   ],
   "source": [
    "tomato_target_spot = list(data_dir.glob('Tomato__Target_Spot/*'))\n",
    "len(tomato_target_spot)"
   ]
  },
  {
   "cell_type": "code",
   "execution_count": null,
   "id": "0b7e89c7",
   "metadata": {},
   "outputs": [],
   "source": []
  },
  {
   "cell_type": "code",
   "execution_count": null,
   "id": "b6b5a280",
   "metadata": {},
   "outputs": [],
   "source": [
    "flowers = {\n",
    "    'Tomato_Target_Spot' :  list(data_dir.glob('Tomato_Target_Spot/*')),\n",
    "    'Tomato__Tomato_mosaic_virus' :  list(data_dir.glob('Tomato__Tomato_mosaic_virus/*')),\n",
    "    'Tomato_Target_Spot' :  list(data_dir.glob('Tomato_Target_Spot/*')),\n",
    "    'Tomato_Target_Spot' :  list(data_dir.glob('Tomato_Target_Spot/*')),\n",
    "    'Tomato_Target_Spot' :  list(data_dir.glob('Tomato_Target_Spot/*')),\n",
    "    'Tomato_Target_Spot' :  list(data_dir.glob('Tomato_Target_Spot/*')),\n",
    "    'Tomato_Target_Spot' :  list(data_dir.glob('Tomato_Target_Spot/*')),\n",
    "    'Tomato_Target_Spot' :  list(data_dir.glob('Tomato_Target_Spot/*')),\n",
    "    'Tomato_Target_Spot' :  list(data_dir.glob('Tomato_Target_Spot/*')),\n",
    "    'Tomato_Target_Spot' :  list(data_dir.glob('Tomato_Target_Spot/*')),\n",
    "    \n",
    "}"
   ]
  }
 ],
 "metadata": {
  "kernelspec": {
   "display_name": "Python 3 (ipykernel)",
   "language": "python",
   "name": "python3"
  },
  "language_info": {
   "codemirror_mode": {
    "name": "ipython",
    "version": 3
   },
   "file_extension": ".py",
   "mimetype": "text/x-python",
   "name": "python",
   "nbconvert_exporter": "python",
   "pygments_lexer": "ipython3",
   "version": "3.10.4"
  }
 },
 "nbformat": 4,
 "nbformat_minor": 5
}
